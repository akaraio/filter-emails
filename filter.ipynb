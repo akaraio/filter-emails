{
 "cells": [
  {
   "cell_type": "code",
   "execution_count": null,
   "metadata": {
    "executionInfo": {
     "elapsed": 199,
     "status": "ok",
     "timestamp": 1733608900755,
     "user": {
      "displayName": "akara",
      "userId": "03294495074658875410"
     },
     "user_tz": -120
    },
    "id": "5srkwlF3aBys"
   },
   "outputs": [],
   "source": [
    "import tensorflow as tf\n",
    "from tensorflow.keras.preprocessing.text import Tokenizer\n",
    "from tensorflow.keras.preprocessing.sequence import pad_sequences\n",
    "from tensorflow.keras.layers import Input, Dense, GlobalMaxPool1D, Conv1D, MaxPooling1D, LSTM\n",
    "from tensorflow.keras.layers import Embedding\n",
    "from tensorflow.keras.models import Model\n",
    "from sklearn.model_selection import train_test_split\n",
    "\n",
    "import pandas as pd\n",
    "import numpy as np\n",
    "import matplotlib.pyplot as plt"
   ]
  },
  {
   "cell_type": "code",
   "execution_count": null,
   "metadata": {
    "colab": {
     "base_uri": "https://localhost:8080/",
     "height": 424
    },
    "executionInfo": {
     "elapsed": 231,
     "status": "ok",
     "timestamp": 1733608804802,
     "user": {
      "displayName": "akara",
      "userId": "03294495074658875410"
     },
     "user_tz": -120
    },
    "id": "tf69os0EaFwV",
    "outputId": "0b60f793-3991-4fab-9e11-3c96ce27fe36"
   },
   "outputs": [],
   "source": [
    "df = pd.read_csv('data', encoding='latin-1')\n",
    "df"
   ]
  },
  {
   "cell_type": "code",
   "execution_count": null,
   "metadata": {
    "colab": {
     "base_uri": "https://localhost:8080/",
     "height": 424
    },
    "executionInfo": {
     "elapsed": 235,
     "status": "ok",
     "timestamp": 1733608806653,
     "user": {
      "displayName": "akara",
      "userId": "03294495074658875410"
     },
     "user_tz": -120
    },
    "id": "dnNIXj1BaIQf",
    "outputId": "1fa712d7-292a-4c0d-9eb6-c62fef1b272c"
   },
   "outputs": [],
   "source": [
    "df['Labels'] = df['v1'].map({'ham':0, 'spam':1})\n",
    "df.rename(columns={'v2':'Message'}, inplace=True)\n",
    "df = df.drop(['Unnamed: 2', 'Unnamed: 3',\t'Unnamed: 4'], axis=1)\n",
    "df"
   ]
  },
  {
   "cell_type": "code",
   "execution_count": null,
   "metadata": {
    "executionInfo": {
     "elapsed": 346,
     "status": "ok",
     "timestamp": 1733608819815,
     "user": {
      "displayName": "akara",
      "userId": "03294495074658875410"
     },
     "user_tz": -120
    },
    "id": "P90qiuh5Hvra"
   },
   "outputs": [],
   "source": [
    "X = df['Message']\n",
    "y = df['Labels']\n",
    "\n",
    "X_train, X_test, y_train, y_test = train_test_split(X, y, test_size=0.2, random_state=42)"
   ]
  },
  {
   "cell_type": "code",
   "execution_count": null,
   "metadata": {
    "executionInfo": {
     "elapsed": 750,
     "status": "ok",
     "timestamp": 1733608828406,
     "user": {
      "displayName": "akara",
      "userId": "03294495074658875410"
     },
     "user_tz": -120
    },
    "id": "psr_QacZI0mS"
   },
   "outputs": [],
   "source": [
    "MAX_VOC = 20000\n",
    "tokenizer = Tokenizer(num_words=MAX_VOC)\n",
    "tokenizer.fit_on_texts(X_train)\n",
    "seq_train = tokenizer.texts_to_sequences(X_train)\n",
    "seq_test = tokenizer.texts_to_sequences(X_test)"
   ]
  },
  {
   "cell_type": "code",
   "execution_count": null,
   "metadata": {
    "colab": {
     "base_uri": "https://localhost:8080/"
    },
    "executionInfo": {
     "elapsed": 208,
     "status": "ok",
     "timestamp": 1733608833494,
     "user": {
      "displayName": "akara",
      "userId": "03294495074658875410"
     },
     "user_tz": -120
    },
    "id": "lNhic3KxI2mf",
    "outputId": "ce385a8e-549a-454e-a8d9-987b5ad11401"
   },
   "outputs": [],
   "source": [
    "word2idx = tokenizer.index_word\n",
    "V = len(word2idx)\n",
    "V"
   ]
  },
  {
   "cell_type": "code",
   "execution_count": null,
   "metadata": {
    "executionInfo": {
     "elapsed": 195,
     "status": "ok",
     "timestamp": 1733608840067,
     "user": {
      "displayName": "akara",
      "userId": "03294495074658875410"
     },
     "user_tz": -120
    },
    "id": "-hgh2Xo2I3-d"
   },
   "outputs": [],
   "source": [
    "X_train = pad_sequences(seq_train)\n",
    "T = X_train.shape[1]\n",
    "X_test = pad_sequences(seq_test, maxlen=T)"
   ]
  },
  {
   "cell_type": "code",
   "execution_count": null,
   "metadata": {
    "executionInfo": {
     "elapsed": 219,
     "status": "ok",
     "timestamp": 1733608904428,
     "user": {
      "displayName": "akara",
      "userId": "03294495074658875410"
     },
     "user_tz": -120
    },
    "id": "rrauUtc7I5lY"
   },
   "outputs": [],
   "source": [
    "from tensorflow.keras.utils import set_random_seed\n",
    "set_random_seed(42)\n",
    "\n",
    "D = 20\n",
    "M = 15\n",
    "\n",
    "i = Input(shape=(T,))\n",
    "x = Embedding(V +1, D)(i) \n",
    "x = LSTM(M, return_sequences=True)(x)\n",
    "x = GlobalMaxPool1D()(x)\n",
    "x = Dense(1, activation='sigmoid')(x)\n",
    "\n",
    "model = Model(i, x)\n",
    "model.compile(loss='binary_crossentropy', optimizer='adam', metrics=['accuracy'])"
   ]
  },
  {
   "cell_type": "code",
   "execution_count": null,
   "metadata": {
    "colab": {
     "base_uri": "https://localhost:8080/"
    },
    "executionInfo": {
     "elapsed": 114851,
     "status": "ok",
     "timestamp": 1733609024213,
     "user": {
      "displayName": "akara",
      "userId": "03294495074658875410"
     },
     "user_tz": -120
    },
    "id": "UP9az-u4I7AV",
    "outputId": "b672635c-787a-4df2-df91-9eb876e8f770"
   },
   "outputs": [],
   "source": [
    "r = model.fit(X_train, y_train, epochs=10, validation_data=(X_test, y_test))"
   ]
  },
  {
   "cell_type": "code",
   "execution_count": null,
   "metadata": {
    "colab": {
     "base_uri": "https://localhost:8080/",
     "height": 447
    },
    "executionInfo": {
     "elapsed": 378,
     "status": "ok",
     "timestamp": 1733609024584,
     "user": {
      "displayName": "akara",
      "userId": "03294495074658875410"
     },
     "user_tz": -120
    },
    "id": "tzqDsn4lJKjO",
    "outputId": "6e11b139-e5d5-42d6-b02a-b4ae72084d26"
   },
   "outputs": [],
   "source": [
    "plt.plot(r.history['accuracy'])\n",
    "plt.plot(r.history['val_accuracy'])"
   ]
  },
  {
   "cell_type": "code",
   "execution_count": null,
   "metadata": {
    "colab": {
     "base_uri": "https://localhost:8080/",
     "height": 447
    },
    "executionInfo": {
     "elapsed": 268,
     "status": "ok",
     "timestamp": 1733609024845,
     "user": {
      "displayName": "akara",
      "userId": "03294495074658875410"
     },
     "user_tz": -120
    },
    "id": "T9DQX58aJNL9",
    "outputId": "98f4773f-817a-4f9e-dc21-8d3780896835"
   },
   "outputs": [],
   "source": [
    "plt.plot(r.history['loss'])\n",
    "plt.plot(r.history['val_loss'])"
   ]
  },
  {
   "cell_type": "code",
   "execution_count": null,
   "metadata": {
    "executionInfo": {
     "elapsed": 5,
     "status": "ok",
     "timestamp": 1733609024846,
     "user": {
      "displayName": "akara",
      "userId": "03294495074658875410"
     },
     "user_tz": -120
    },
    "id": "TwruMUaqJS7I"
   },
   "outputs": [],
   "source": [
    "model.save('data')"
   ]
  }
 ],
 "metadata": {
  "colab": {
   "authorship_tag": "ABX9TyNyB5W0msePvQBn8ozE93Ks",
   "mount_file_id": "1zGdhQuxZTdKv5ANOtztDHMr28kFpdlaV",
   "provenance": []
  },
  "kernelspec": {
   "display_name": "Python 3",
   "name": "python3"
  },
  "language_info": {
   "name": "python"
  }
 },
 "nbformat": 4,
 "nbformat_minor": 0
}
